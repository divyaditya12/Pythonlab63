{
  "nbformat": 4,
  "nbformat_minor": 0,
  "metadata": {
    "colab": {
      "provenance": [],
      "authorship_tag": "ABX9TyMlhbQqU2ohG7mg75Fg00Uf",
      "include_colab_link": true
    },
    "kernelspec": {
      "name": "python3",
      "display_name": "Python 3"
    },
    "language_info": {
      "name": "python"
    }
  },
  "cells": [
    {
      "cell_type": "markdown",
      "metadata": {
        "id": "view-in-github",
        "colab_type": "text"
      },
      "source": [
        "<a href=\"https://colab.research.google.com/github/divyaditya12/Pythonlab63/blob/main/Untitled0.ipynb\" target=\"_parent\"><img src=\"https://colab.research.google.com/assets/colab-badge.svg\" alt=\"Open In Colab\"/></a>"
      ]
    },
    {
      "cell_type": "markdown",
      "source": [
        "Illustrate the examples of list comprehensionin python"
      ],
      "metadata": {
        "id": "GVuWxxuWvhGS"
      }
    },
    {
      "cell_type": "markdown",
      "source": [
        "Print square of natural numbers from 1 to 10"
      ],
      "metadata": {
        "id": "aJvxmj740CCq"
      }
    },
    {
      "cell_type": "code",
      "source": [
        "\n",
        "for i in range(1, 11):\n",
        "    print(i ** 2)\n",
        "\n",
        "\n"
      ],
      "metadata": {
        "colab": {
          "base_uri": "https://localhost:8080/"
        },
        "id": "RVK2nJJevhRL",
        "outputId": "ef3976d2-f92d-4849-c744-307d9810d618"
      },
      "execution_count": null,
      "outputs": [
        {
          "output_type": "stream",
          "name": "stdout",
          "text": [
            "1\n",
            "4\n",
            "9\n",
            "16\n",
            "25\n",
            "36\n",
            "49\n",
            "64\n",
            "81\n",
            "100\n"
          ]
        }
      ]
    },
    {
      "cell_type": "markdown",
      "source": [
        "Count number of 6's between 1 to 1000"
      ],
      "metadata": {
        "id": "tf8k7AMAz3Xb"
      }
    },
    {
      "cell_type": "code",
      "source": [
        "count = sum(str(i).count('6') for i in range(1, 1001))\n",
        "print(\"The number of sixes between 1 and 1000 is:\", count)"
      ],
      "metadata": {
        "id": "-ODWDzM20Ao8"
      },
      "execution_count": null,
      "outputs": []
    },
    {
      "cell_type": "markdown",
      "source": [
        "count number of spaces in a string "
      ],
      "metadata": {
        "id": "f2H8o6621H5C"
      }
    },
    {
      "cell_type": "code",
      "source": [
        "def check_space(string):\n",
        "  \n",
        "  \n",
        "  count = 0\n",
        "  \n",
        "\n",
        "  for i in range(0, len(string)):\n",
        "    \n",
        "    \n",
        "    if string[i] == \" \":\n",
        "      count += 1\n",
        "    \n",
        "  return count\n",
        "\n",
        "\n",
        "string = \"my name   is   Divyaditya \"\n",
        "\n",
        "\n",
        "print(\"number of spaces \",check_space(string))"
      ],
      "metadata": {
        "id": "hSivVPQC1L7q"
      },
      "execution_count": null,
      "outputs": []
    },
    {
      "cell_type": "markdown",
      "source": [
        "Print table of 5"
      ],
      "metadata": {
        "id": "_eyYeG5w1XAM"
      }
    },
    {
      "cell_type": "code",
      "source": [
        "num = 5\n",
        "\n",
        "\n",
        "for i in range(1, 11):\n",
        "   print(num, 'x', i, '=', num*i)"
      ],
      "metadata": {
        "colab": {
          "base_uri": "https://localhost:8080/"
        },
        "id": "e_QMloJO1apz",
        "outputId": "e6879129-43d5-4692-b70b-e34414d75dfe"
      },
      "execution_count": null,
      "outputs": [
        {
          "output_type": "stream",
          "name": "stdout",
          "text": [
            "5 x 1 = 5\n",
            "5 x 2 = 10\n",
            "5 x 3 = 15\n",
            "5 x 4 = 20\n",
            "5 x 5 = 25\n",
            "5 x 6 = 30\n",
            "5 x 7 = 35\n",
            "5 x 8 = 40\n",
            "5 x 9 = 45\n",
            "5 x 10 = 50\n"
          ]
        }
      ]
    },
    {
      "cell_type": "markdown",
      "source": [
        "Find numbers between 1 to 1000 divisible by 2 and 5"
      ],
      "metadata": {
        "id": "s6l-Ap0r1gsK"
      }
    },
    {
      "cell_type": "code",
      "source": [
        "lower = int(input(\"Enter lower range limit:\"))\n",
        "upper = int(input(\"Enter upper range limit:\"))\n",
        "for i in range(lower, upper+1):\n",
        "   if((i%2==0) & (i%5==0)):\n",
        "      print(i)\n",
        "      "
      ],
      "metadata": {
        "colab": {
          "base_uri": "https://localhost:8080/"
        },
        "id": "57fVeerx1oF7",
        "outputId": "ed7053e6-e4a4-43b8-882b-0ad424ad1403"
      },
      "execution_count": null,
      "outputs": [
        {
          "output_type": "stream",
          "name": "stdout",
          "text": [
            "Enter lower range limit:1\n",
            "Enter upper range limit:10\n",
            "10\n"
          ]
        }
      ]
    }
  ]
}